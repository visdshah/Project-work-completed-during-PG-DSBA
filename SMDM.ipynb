{
 "cells": [
  {
   "cell_type": "markdown",
   "id": "d17a3df5",
   "metadata": {},
   "source": [
    "Problem 1\n",
    "Cold Storage started its operations in Jan 2016. They are in the business of storing Pasteurized Fresh\n",
    "Whole or Skimmed Milk, Sweet Cream, Flavoured Milk Drinks. To ensure that there is no change of\n",
    "texture, body appearance, separation of fats the optimal temperature to be maintained is between 2º - 4º\n",
    "C.\n",
    "In the first year of business, they outsourced the plant maintenance work to a professional company with stiff\n",
    "penalty clauses. It was agreed that if it was statistically proven that the probability of temperature going\n",
    "outside the 2º - 4º C during the one-year contract was above 2.5% and less than 5% then the penalty would\n",
    "be 10% of AMC (annual maintenance case). In case it exceeded 5% then the penalty would be 25% of the\n",
    "AMC fee. The average temperature data at the date level is given in the file\n",
    "“Cold_Storage_Temp_Data_.csv”\n",
    "\n",
    "Dataset to be used for Problem 1:\n",
    "Cold_Storage_Temp_Data_.csv"
   ]
  },
  {
   "cell_type": "code",
   "execution_count": 121,
   "id": "9f35c22e",
   "metadata": {},
   "outputs": [],
   "source": [
    "import pandas as pd\n",
    "import seaborn as sns\n",
    "import numpy as np\n",
    "import matplotlib.pyplot as plt\n",
    "import scipy.stats as sts\n",
    "from scipy.stats import ttest_1samp\n"
   ]
  },
  {
   "cell_type": "code",
   "execution_count": 122,
   "id": "5c34458a",
   "metadata": {},
   "outputs": [
    {
     "data": {
      "text/html": [
       "<div>\n",
       "<style scoped>\n",
       "    .dataframe tbody tr th:only-of-type {\n",
       "        vertical-align: middle;\n",
       "    }\n",
       "\n",
       "    .dataframe tbody tr th {\n",
       "        vertical-align: top;\n",
       "    }\n",
       "\n",
       "    .dataframe thead th {\n",
       "        text-align: right;\n",
       "    }\n",
       "</style>\n",
       "<table border=\"1\" class=\"dataframe\">\n",
       "  <thead>\n",
       "    <tr style=\"text-align: right;\">\n",
       "      <th></th>\n",
       "      <th>Season</th>\n",
       "      <th>Month</th>\n",
       "      <th>Date</th>\n",
       "      <th>Temperature</th>\n",
       "    </tr>\n",
       "  </thead>\n",
       "  <tbody>\n",
       "    <tr>\n",
       "      <th>0</th>\n",
       "      <td>Winter</td>\n",
       "      <td>Jan</td>\n",
       "      <td>1</td>\n",
       "      <td>2.3</td>\n",
       "    </tr>\n",
       "    <tr>\n",
       "      <th>1</th>\n",
       "      <td>Winter</td>\n",
       "      <td>Jan</td>\n",
       "      <td>2</td>\n",
       "      <td>2.2</td>\n",
       "    </tr>\n",
       "    <tr>\n",
       "      <th>2</th>\n",
       "      <td>Winter</td>\n",
       "      <td>Jan</td>\n",
       "      <td>3</td>\n",
       "      <td>2.4</td>\n",
       "    </tr>\n",
       "    <tr>\n",
       "      <th>3</th>\n",
       "      <td>Winter</td>\n",
       "      <td>Jan</td>\n",
       "      <td>4</td>\n",
       "      <td>2.8</td>\n",
       "    </tr>\n",
       "    <tr>\n",
       "      <th>4</th>\n",
       "      <td>Winter</td>\n",
       "      <td>Jan</td>\n",
       "      <td>5</td>\n",
       "      <td>2.5</td>\n",
       "    </tr>\n",
       "    <tr>\n",
       "      <th>...</th>\n",
       "      <td>...</td>\n",
       "      <td>...</td>\n",
       "      <td>...</td>\n",
       "      <td>...</td>\n",
       "    </tr>\n",
       "    <tr>\n",
       "      <th>360</th>\n",
       "      <td>Winter</td>\n",
       "      <td>Dec</td>\n",
       "      <td>27</td>\n",
       "      <td>2.7</td>\n",
       "    </tr>\n",
       "    <tr>\n",
       "      <th>361</th>\n",
       "      <td>Winter</td>\n",
       "      <td>Dec</td>\n",
       "      <td>28</td>\n",
       "      <td>2.3</td>\n",
       "    </tr>\n",
       "    <tr>\n",
       "      <th>362</th>\n",
       "      <td>Winter</td>\n",
       "      <td>Dec</td>\n",
       "      <td>29</td>\n",
       "      <td>2.6</td>\n",
       "    </tr>\n",
       "    <tr>\n",
       "      <th>363</th>\n",
       "      <td>Winter</td>\n",
       "      <td>Dec</td>\n",
       "      <td>30</td>\n",
       "      <td>2.3</td>\n",
       "    </tr>\n",
       "    <tr>\n",
       "      <th>364</th>\n",
       "      <td>Winter</td>\n",
       "      <td>Dec</td>\n",
       "      <td>31</td>\n",
       "      <td>2.9</td>\n",
       "    </tr>\n",
       "  </tbody>\n",
       "</table>\n",
       "<p>365 rows × 4 columns</p>\n",
       "</div>"
      ],
      "text/plain": [
       "     Season Month  Date  Temperature \n",
       "0    Winter   Jan     1           2.3\n",
       "1    Winter   Jan     2           2.2\n",
       "2    Winter   Jan     3           2.4\n",
       "3    Winter   Jan     4           2.8\n",
       "4    Winter   Jan     5           2.5\n",
       "..      ...   ...   ...           ...\n",
       "360  Winter   Dec    27           2.7\n",
       "361  Winter   Dec    28           2.3\n",
       "362  Winter   Dec    29           2.6\n",
       "363  Winter   Dec    30           2.3\n",
       "364  Winter   Dec    31           2.9\n",
       "\n",
       "[365 rows x 4 columns]"
      ]
     },
     "execution_count": 122,
     "metadata": {},
     "output_type": "execute_result"
    }
   ],
   "source": [
    "df= pd.read_csv('Cold_Storage_Temp_Data.csv')\n",
    "df"
   ]
  },
  {
   "cell_type": "code",
   "execution_count": 123,
   "id": "3066ef0e",
   "metadata": {},
   "outputs": [
    {
     "data": {
      "text/plain": [
       "Index(['Season', 'Month', 'Date', 'Temperature '], dtype='object')"
      ]
     },
     "execution_count": 123,
     "metadata": {},
     "output_type": "execute_result"
    }
   ],
   "source": [
    "df.columns"
   ]
  },
  {
   "cell_type": "code",
   "execution_count": 124,
   "id": "30180d31",
   "metadata": {},
   "outputs": [],
   "source": [
    "df.rename(columns={'Temperature ':'Temperature'},inplace=True)"
   ]
  },
  {
   "cell_type": "code",
   "execution_count": 125,
   "id": "661c86e4",
   "metadata": {},
   "outputs": [
    {
     "data": {
      "text/plain": [
       "<AxesSubplot:xlabel='Temperature', ylabel='Count'>"
      ]
     },
     "execution_count": 125,
     "metadata": {},
     "output_type": "execute_result"
    },
    {
     "data": {
      "image/png": "[encoded data removed]",
      "text/plain": [
       "<Figure size 640x480 with 1 Axes>"
      ]
     },
     "metadata": {},
     "output_type": "display_data"
    }
   ],
   "source": [
    "sns.histplot(df['Temperature'])"
   ]
  },
  {
   "cell_type": "markdown",
   "id": "b6a4301b",
   "metadata": {},
   "source": [
    "1. Find mean cold storage temperature for Summer, Winter, and Rainy Season. (7 marks)"
   ]
  },
  {
   "cell_type": "code",
   "execution_count": 126,
   "id": "8261647a",
   "metadata": {},
   "outputs": [
    {
     "data": {
      "text/html": [
       "<div>\n",
       "<style scoped>\n",
       "    .dataframe tbody tr th:only-of-type {\n",
       "        vertical-align: middle;\n",
       "    }\n",
       "\n",
       "    .dataframe tbody tr th {\n",
       "        vertical-align: top;\n",
       "    }\n",
       "\n",
       "    .dataframe thead th {\n",
       "        text-align: right;\n",
       "    }\n",
       "</style>\n",
       "<table border=\"1\" class=\"dataframe\">\n",
       "  <thead>\n",
       "    <tr style=\"text-align: right;\">\n",
       "      <th></th>\n",
       "      <th>count</th>\n",
       "      <th>mean</th>\n",
       "      <th>std</th>\n",
       "      <th>min</th>\n",
       "      <th>25%</th>\n",
       "      <th>50%</th>\n",
       "      <th>75%</th>\n",
       "      <th>max</th>\n",
       "    </tr>\n",
       "    <tr>\n",
       "      <th>Season</th>\n",
       "      <th></th>\n",
       "      <th></th>\n",
       "      <th></th>\n",
       "      <th></th>\n",
       "      <th></th>\n",
       "      <th></th>\n",
       "      <th></th>\n",
       "      <th></th>\n",
       "    </tr>\n",
       "  </thead>\n",
       "  <tbody>\n",
       "    <tr>\n",
       "      <th>Rainy</th>\n",
       "      <td>122.0</td>\n",
       "      <td>3.087705</td>\n",
       "      <td>0.527207</td>\n",
       "      <td>1.7</td>\n",
       "      <td>2.70</td>\n",
       "      <td>3.05</td>\n",
       "      <td>3.4</td>\n",
       "      <td>4.5</td>\n",
       "    </tr>\n",
       "    <tr>\n",
       "      <th>Summer</th>\n",
       "      <td>120.0</td>\n",
       "      <td>3.147500</td>\n",
       "      <td>0.351698</td>\n",
       "      <td>2.5</td>\n",
       "      <td>2.90</td>\n",
       "      <td>3.20</td>\n",
       "      <td>3.4</td>\n",
       "      <td>4.0</td>\n",
       "    </tr>\n",
       "    <tr>\n",
       "      <th>Winter</th>\n",
       "      <td>123.0</td>\n",
       "      <td>2.776423</td>\n",
       "      <td>0.414310</td>\n",
       "      <td>1.8</td>\n",
       "      <td>2.45</td>\n",
       "      <td>2.80</td>\n",
       "      <td>3.0</td>\n",
       "      <td>3.9</td>\n",
       "    </tr>\n",
       "  </tbody>\n",
       "</table>\n",
       "</div>"
      ],
      "text/plain": [
       "        count      mean       std  min   25%   50%  75%  max\n",
       "Season                                                      \n",
       "Rainy   122.0  3.087705  0.527207  1.7  2.70  3.05  3.4  4.5\n",
       "Summer  120.0  3.147500  0.351698  2.5  2.90  3.20  3.4  4.0\n",
       "Winter  123.0  2.776423  0.414310  1.8  2.45  2.80  3.0  3.9"
      ]
     },
     "execution_count": 126,
     "metadata": {},
     "output_type": "execute_result"
    }
   ],
   "source": [
    "df.groupby('Season')['Temperature'].describe()"
   ]
  },
  {
   "cell_type": "code",
   "execution_count": 127,
   "id": "5081cad7",
   "metadata": {
    "scrolled": true
   },
   "outputs": [
    {
     "data": {
      "text/plain": [
       "Season\n",
       "Rainy     3.087705\n",
       "Summer    3.147500\n",
       "Winter    2.776423\n",
       "Name: Temperature, dtype: float64"
      ]
     },
     "execution_count": 127,
     "metadata": {},
     "output_type": "execute_result"
    }
   ],
   "source": [
    "df.groupby('Season')['Temperature'].mean()"
   ]
  },
  {
   "cell_type": "code",
   "execution_count": 128,
   "id": "71f47728",
   "metadata": {},
   "outputs": [
    {
     "data": {
      "text/plain": [
       "<AxesSubplot:xlabel='Season', ylabel='Temperature'>"
      ]
     },
     "execution_count": 128,
     "metadata": {},
     "output_type": "execute_result"
    },
    {
     "data": {
      "image/png": "[encoded data removed]",
      "text/plain": [
       "<Figure size 640x480 with 1 Axes>"
      ]
     },
     "metadata": {},
     "output_type": "display_data"
    }
   ],
   "source": [
    "sns.boxplot(data=df, y= 'Temperature',x= 'Season')"
   ]
  },
  {
   "cell_type": "markdown",
   "id": "4a16ec9c",
   "metadata": {},
   "source": [
    "2. Find the overall mean for the full year. (7 marks)"
   ]
  },
  {
   "cell_type": "code",
   "execution_count": 129,
   "id": "9227a148",
   "metadata": {},
   "outputs": [
    {
     "data": {
      "text/html": [
       "<div>\n",
       "<style scoped>\n",
       "    .dataframe tbody tr th:only-of-type {\n",
       "        vertical-align: middle;\n",
       "    }\n",
       "\n",
       "    .dataframe tbody tr th {\n",
       "        vertical-align: top;\n",
       "    }\n",
       "\n",
       "    .dataframe thead th {\n",
       "        text-align: right;\n",
       "    }\n",
       "</style>\n",
       "<table border=\"1\" class=\"dataframe\">\n",
       "  <thead>\n",
       "    <tr style=\"text-align: right;\">\n",
       "      <th></th>\n",
       "      <th>Date</th>\n",
       "      <th>Temperature</th>\n",
       "    </tr>\n",
       "  </thead>\n",
       "  <tbody>\n",
       "    <tr>\n",
       "      <th>count</th>\n",
       "      <td>365.000000</td>\n",
       "      <td>365.000000</td>\n",
       "    </tr>\n",
       "    <tr>\n",
       "      <th>mean</th>\n",
       "      <td>15.720548</td>\n",
       "      <td>3.002466</td>\n",
       "    </tr>\n",
       "    <tr>\n",
       "      <th>std</th>\n",
       "      <td>8.808321</td>\n",
       "      <td>0.465832</td>\n",
       "    </tr>\n",
       "    <tr>\n",
       "      <th>min</th>\n",
       "      <td>1.000000</td>\n",
       "      <td>1.700000</td>\n",
       "    </tr>\n",
       "    <tr>\n",
       "      <th>25%</th>\n",
       "      <td>8.000000</td>\n",
       "      <td>2.700000</td>\n",
       "    </tr>\n",
       "    <tr>\n",
       "      <th>50%</th>\n",
       "      <td>16.000000</td>\n",
       "      <td>3.000000</td>\n",
       "    </tr>\n",
       "    <tr>\n",
       "      <th>75%</th>\n",
       "      <td>23.000000</td>\n",
       "      <td>3.300000</td>\n",
       "    </tr>\n",
       "    <tr>\n",
       "      <th>max</th>\n",
       "      <td>31.000000</td>\n",
       "      <td>4.500000</td>\n",
       "    </tr>\n",
       "  </tbody>\n",
       "</table>\n",
       "</div>"
      ],
      "text/plain": [
       "             Date  Temperature\n",
       "count  365.000000   365.000000\n",
       "mean    15.720548     3.002466\n",
       "std      8.808321     0.465832\n",
       "min      1.000000     1.700000\n",
       "25%      8.000000     2.700000\n",
       "50%     16.000000     3.000000\n",
       "75%     23.000000     3.300000\n",
       "max     31.000000     4.500000"
      ]
     },
     "execution_count": 129,
     "metadata": {},
     "output_type": "execute_result"
    }
   ],
   "source": [
    "df.describe()"
   ]
  },
  {
   "cell_type": "code",
   "execution_count": 130,
   "id": "ffa5f07f",
   "metadata": {},
   "outputs": [
    {
     "data": {
      "text/plain": [
       "3.0024657534246577"
      ]
     },
     "execution_count": 130,
     "metadata": {},
     "output_type": "execute_result"
    }
   ],
   "source": [
    "df['Temperature'].mean()"
   ]
  },
  {
   "cell_type": "code",
   "execution_count": 131,
   "id": "65dc4f12",
   "metadata": {},
   "outputs": [
    {
     "data": {
      "text/plain": [
       "<matplotlib.lines.Line2D at 0x19b225bcbe0>"
      ]
     },
     "execution_count": 131,
     "metadata": {},
     "output_type": "execute_result"
    },
    {
     "data": {
      "image/png": "[encoded data removed]",
      "text/plain": [
       "<Figure size 640x480 with 1 Axes>"
      ]
     },
     "metadata": {},
     "output_type": "display_data"
    }
   ],
   "source": [
    "sns.barplot(data=df, y= 'Temperature',x= 'Season')\n",
    "plt.axhline(y=df.Temperature.mean())\n"
   ]
  },
  {
   "cell_type": "markdown",
   "id": "92b351cc",
   "metadata": {},
   "source": [
    "3. Find Standard Deviation for the full year. (7 marks)"
   ]
  },
  {
   "cell_type": "code",
   "execution_count": 132,
   "id": "04d624d9",
   "metadata": {},
   "outputs": [
    {
     "data": {
      "text/plain": [
       "0.4658319416510761"
      ]
     },
     "execution_count": 132,
     "metadata": {},
     "output_type": "execute_result"
    }
   ],
   "source": [
    "df['Temperature'].std()"
   ]
  },
  {
   "cell_type": "code",
   "execution_count": 133,
   "id": "eed535c2",
   "metadata": {},
   "outputs": [
    {
     "data": {
      "text/plain": [
       "Season\n",
       "Rainy     0.527207\n",
       "Summer    0.351698\n",
       "Winter    0.414310\n",
       "Name: Temperature, dtype: float64"
      ]
     },
     "execution_count": 133,
     "metadata": {},
     "output_type": "execute_result"
    }
   ],
   "source": [
    "df.groupby('Season')['Temperature'].std()"
   ]
  },
  {
   "cell_type": "markdown",
   "id": "c4bc6f07",
   "metadata": {},
   "source": [
    "4. Assume Normal distribution, what is the probability of temperature having fallen below 2º C? (7 marks)"
   ]
  },
  {
   "cell_type": "code",
   "execution_count": 134,
   "id": "2fac3e0c",
   "metadata": {},
   "outputs": [],
   "source": [
    "#calculating z value: x- mean / s.d"
   ]
  },
  {
   "cell_type": "code",
   "execution_count": 135,
   "id": "bf6582a1",
   "metadata": {},
   "outputs": [
    {
     "data": {
      "text/plain": [
       "-2.1519901573764098"
      ]
     },
     "execution_count": 135,
     "metadata": {},
     "output_type": "execute_result"
    }
   ],
   "source": [
    "zvalue= (2- df['Temperature'].mean())/df['Temperature'].std()\n",
    "zvalue"
   ]
  },
  {
   "cell_type": "code",
   "execution_count": 136,
   "id": "77f7f749",
   "metadata": {
    "scrolled": true
   },
   "outputs": [
    {
     "data": {
      "text/plain": [
       "0.015699064791364223"
      ]
     },
     "execution_count": 136,
     "metadata": {},
     "output_type": "execute_result"
    }
   ],
   "source": [
    "p1= sts.norm.cdf(zvalue)\n",
    "p1"
   ]
  },
  {
   "cell_type": "code",
   "execution_count": 137,
   "id": "7cc3e8f8",
   "metadata": {
    "scrolled": true
   },
   "outputs": [
    {
     "data": {
      "text/html": [
       "<div>\n",
       "<style scoped>\n",
       "    .dataframe tbody tr th:only-of-type {\n",
       "        vertical-align: middle;\n",
       "    }\n",
       "\n",
       "    .dataframe tbody tr th {\n",
       "        vertical-align: top;\n",
       "    }\n",
       "\n",
       "    .dataframe thead th {\n",
       "        text-align: right;\n",
       "    }\n",
       "</style>\n",
       "<table border=\"1\" class=\"dataframe\">\n",
       "  <thead>\n",
       "    <tr style=\"text-align: right;\">\n",
       "      <th></th>\n",
       "      <th>Season</th>\n",
       "      <th>Month</th>\n",
       "      <th>Date</th>\n",
       "      <th>Temperature</th>\n",
       "    </tr>\n",
       "  </thead>\n",
       "  <tbody>\n",
       "    <tr>\n",
       "      <th>203</th>\n",
       "      <td>Rainy</td>\n",
       "      <td>Jul</td>\n",
       "      <td>23</td>\n",
       "      <td>1.9</td>\n",
       "    </tr>\n",
       "    <tr>\n",
       "      <th>271</th>\n",
       "      <td>Rainy</td>\n",
       "      <td>Sep</td>\n",
       "      <td>29</td>\n",
       "      <td>1.7</td>\n",
       "    </tr>\n",
       "    <tr>\n",
       "      <th>306</th>\n",
       "      <td>Winter</td>\n",
       "      <td>Nov</td>\n",
       "      <td>3</td>\n",
       "      <td>1.8</td>\n",
       "    </tr>\n",
       "  </tbody>\n",
       "</table>\n",
       "</div>"
      ],
      "text/plain": [
       "     Season Month  Date  Temperature\n",
       "203   Rainy   Jul    23          1.9\n",
       "271   Rainy   Sep    29          1.7\n",
       "306  Winter   Nov     3          1.8"
      ]
     },
     "execution_count": 137,
     "metadata": {},
     "output_type": "execute_result"
    }
   ],
   "source": [
    "df[df['Temperature'] < 2]"
   ]
  },
  {
   "cell_type": "code",
   "execution_count": null,
   "id": "bfd3acab",
   "metadata": {},
   "outputs": [],
   "source": []
  },
  {
   "cell_type": "markdown",
   "id": "5747f4c3",
   "metadata": {},
   "source": [
    "5. Assume Normal distribution, what is the probability of temperature having gone above 4º C? (7 marks)"
   ]
  },
  {
   "cell_type": "code",
   "execution_count": 138,
   "id": "39ace237",
   "metadata": {},
   "outputs": [],
   "source": [
    "#calculating z value: x- mean / s.d"
   ]
  },
  {
   "cell_type": "code",
   "execution_count": 139,
   "id": "d7d582c4",
   "metadata": {},
   "outputs": [
    {
     "data": {
      "text/plain": [
       "2.1414037067525293"
      ]
     },
     "execution_count": 139,
     "metadata": {},
     "output_type": "execute_result"
    }
   ],
   "source": [
    "zvalue= (4- df['Temperature'].mean())/df['Temperature'].std()\n",
    "zvalue"
   ]
  },
  {
   "cell_type": "code",
   "execution_count": 140,
   "id": "5d186b2e",
   "metadata": {},
   "outputs": [
    {
     "data": {
      "text/plain": [
       "0.016120748141276064"
      ]
     },
     "execution_count": 140,
     "metadata": {},
     "output_type": "execute_result"
    }
   ],
   "source": [
    "p2= 1-sts.norm.cdf(zvalue)\n",
    "p2"
   ]
  },
  {
   "cell_type": "code",
   "execution_count": 141,
   "id": "e90e0674",
   "metadata": {},
   "outputs": [
    {
     "data": {
      "text/html": [
       "<div>\n",
       "<style scoped>\n",
       "    .dataframe tbody tr th:only-of-type {\n",
       "        vertical-align: middle;\n",
       "    }\n",
       "\n",
       "    .dataframe tbody tr th {\n",
       "        vertical-align: top;\n",
       "    }\n",
       "\n",
       "    .dataframe thead th {\n",
       "        text-align: right;\n",
       "    }\n",
       "</style>\n",
       "<table border=\"1\" class=\"dataframe\">\n",
       "  <thead>\n",
       "    <tr style=\"text-align: right;\">\n",
       "      <th></th>\n",
       "      <th>Season</th>\n",
       "      <th>Month</th>\n",
       "      <th>Date</th>\n",
       "      <th>Temperature</th>\n",
       "    </tr>\n",
       "  </thead>\n",
       "  <tbody>\n",
       "    <tr>\n",
       "      <th>190</th>\n",
       "      <td>Rainy</td>\n",
       "      <td>Jul</td>\n",
       "      <td>10</td>\n",
       "      <td>4.2</td>\n",
       "    </tr>\n",
       "    <tr>\n",
       "      <th>233</th>\n",
       "      <td>Rainy</td>\n",
       "      <td>Aug</td>\n",
       "      <td>22</td>\n",
       "      <td>4.3</td>\n",
       "    </tr>\n",
       "    <tr>\n",
       "      <th>244</th>\n",
       "      <td>Rainy</td>\n",
       "      <td>Sep</td>\n",
       "      <td>2</td>\n",
       "      <td>4.1</td>\n",
       "    </tr>\n",
       "    <tr>\n",
       "      <th>248</th>\n",
       "      <td>Rainy</td>\n",
       "      <td>Sep</td>\n",
       "      <td>6</td>\n",
       "      <td>4.1</td>\n",
       "    </tr>\n",
       "    <tr>\n",
       "      <th>250</th>\n",
       "      <td>Rainy</td>\n",
       "      <td>Sep</td>\n",
       "      <td>8</td>\n",
       "      <td>4.1</td>\n",
       "    </tr>\n",
       "    <tr>\n",
       "      <th>251</th>\n",
       "      <td>Rainy</td>\n",
       "      <td>Sep</td>\n",
       "      <td>9</td>\n",
       "      <td>4.5</td>\n",
       "    </tr>\n",
       "    <tr>\n",
       "      <th>262</th>\n",
       "      <td>Rainy</td>\n",
       "      <td>Sep</td>\n",
       "      <td>20</td>\n",
       "      <td>4.4</td>\n",
       "    </tr>\n",
       "  </tbody>\n",
       "</table>\n",
       "</div>"
      ],
      "text/plain": [
       "    Season Month  Date  Temperature\n",
       "190  Rainy   Jul    10          4.2\n",
       "233  Rainy   Aug    22          4.3\n",
       "244  Rainy   Sep     2          4.1\n",
       "248  Rainy   Sep     6          4.1\n",
       "250  Rainy   Sep     8          4.1\n",
       "251  Rainy   Sep     9          4.5\n",
       "262  Rainy   Sep    20          4.4"
      ]
     },
     "execution_count": 141,
     "metadata": {},
     "output_type": "execute_result"
    }
   ],
   "source": [
    "df[df['Temperature'] > 4]"
   ]
  },
  {
   "cell_type": "markdown",
   "id": "51f11025",
   "metadata": {},
   "source": [
    "6. What will be the penalty for the AMC Company? (5 marks)"
   ]
  },
  {
   "cell_type": "code",
   "execution_count": 142,
   "id": "6d9727d1",
   "metadata": {},
   "outputs": [
    {
     "data": {
      "text/plain": [
       "0.03181981293264029"
      ]
     },
     "execution_count": 142,
     "metadata": {},
     "output_type": "execute_result"
    }
   ],
   "source": [
    "p1+p2"
   ]
  },
  {
   "cell_type": "code",
   "execution_count": 143,
   "id": "41ad0d8f",
   "metadata": {},
   "outputs": [],
   "source": [
    "# With 3% probability of temperature recorded below 2 or above 4 , penalty for AMC shall be 10%"
   ]
  },
  {
   "cell_type": "markdown",
   "id": "76979be0",
   "metadata": {},
   "source": [
    "Problem 2\n",
    "In Mar 2018, Cold Storage started getting complaints from their clients that they have been getting complaints from\n",
    "end consumers of the dairy products going sour and often smelling. On getting these complaints, the supervisor\n",
    "pulls out data of the last 35 days’ temperatures. \n",
    "As a safety measure, the Supervisor has been vigilant to maintain the mean temperature 3.9º C or below.\n",
    "Assume 3.9º C as the upper acceptable mean temperature and at alpha = 0.1 do you feel that there is a\n",
    "need for some corrective action in the Cold Storage Plant or is it that the problem is from the procurement\n",
    "side from where Cold Storage is getting the Dairy Products. The data of the last 35 days is in\n",
    "\n",
    "Dataset to be used for Problem 2: Cold_Storage_Mar2018_.csv"
   ]
  },
  {
   "cell_type": "code",
   "execution_count": 169,
   "id": "9cb9d8fc",
   "metadata": {},
   "outputs": [
    {
     "data": {
      "text/html": [
       "<div>\n",
       "<style scoped>\n",
       "    .dataframe tbody tr th:only-of-type {\n",
       "        vertical-align: middle;\n",
       "    }\n",
       "\n",
       "    .dataframe tbody tr th {\n",
       "        vertical-align: top;\n",
       "    }\n",
       "\n",
       "    .dataframe thead th {\n",
       "        text-align: right;\n",
       "    }\n",
       "</style>\n",
       "<table border=\"1\" class=\"dataframe\">\n",
       "  <thead>\n",
       "    <tr style=\"text-align: right;\">\n",
       "      <th></th>\n",
       "      <th>Season</th>\n",
       "      <th>Month</th>\n",
       "      <th>Date</th>\n",
       "      <th>Temperature</th>\n",
       "    </tr>\n",
       "  </thead>\n",
       "  <tbody>\n",
       "    <tr>\n",
       "      <th>0</th>\n",
       "      <td>Summer</td>\n",
       "      <td>Feb</td>\n",
       "      <td>11</td>\n",
       "      <td>4.0</td>\n",
       "    </tr>\n",
       "    <tr>\n",
       "      <th>1</th>\n",
       "      <td>Summer</td>\n",
       "      <td>Feb</td>\n",
       "      <td>12</td>\n",
       "      <td>3.9</td>\n",
       "    </tr>\n",
       "    <tr>\n",
       "      <th>2</th>\n",
       "      <td>Summer</td>\n",
       "      <td>Feb</td>\n",
       "      <td>13</td>\n",
       "      <td>3.9</td>\n",
       "    </tr>\n",
       "    <tr>\n",
       "      <th>3</th>\n",
       "      <td>Summer</td>\n",
       "      <td>Feb</td>\n",
       "      <td>14</td>\n",
       "      <td>4.0</td>\n",
       "    </tr>\n",
       "    <tr>\n",
       "      <th>4</th>\n",
       "      <td>Summer</td>\n",
       "      <td>Feb</td>\n",
       "      <td>15</td>\n",
       "      <td>3.8</td>\n",
       "    </tr>\n",
       "    <tr>\n",
       "      <th>5</th>\n",
       "      <td>Summer</td>\n",
       "      <td>Feb</td>\n",
       "      <td>16</td>\n",
       "      <td>4.0</td>\n",
       "    </tr>\n",
       "    <tr>\n",
       "      <th>6</th>\n",
       "      <td>Summer</td>\n",
       "      <td>Feb</td>\n",
       "      <td>17</td>\n",
       "      <td>4.1</td>\n",
       "    </tr>\n",
       "    <tr>\n",
       "      <th>7</th>\n",
       "      <td>Summer</td>\n",
       "      <td>Feb</td>\n",
       "      <td>18</td>\n",
       "      <td>4.0</td>\n",
       "    </tr>\n",
       "    <tr>\n",
       "      <th>8</th>\n",
       "      <td>Summer</td>\n",
       "      <td>Feb</td>\n",
       "      <td>19</td>\n",
       "      <td>3.8</td>\n",
       "    </tr>\n",
       "    <tr>\n",
       "      <th>9</th>\n",
       "      <td>Summer</td>\n",
       "      <td>Feb</td>\n",
       "      <td>20</td>\n",
       "      <td>3.9</td>\n",
       "    </tr>\n",
       "    <tr>\n",
       "      <th>10</th>\n",
       "      <td>Summer</td>\n",
       "      <td>Feb</td>\n",
       "      <td>21</td>\n",
       "      <td>3.9</td>\n",
       "    </tr>\n",
       "    <tr>\n",
       "      <th>11</th>\n",
       "      <td>Summer</td>\n",
       "      <td>Feb</td>\n",
       "      <td>22</td>\n",
       "      <td>4.6</td>\n",
       "    </tr>\n",
       "    <tr>\n",
       "      <th>12</th>\n",
       "      <td>Summer</td>\n",
       "      <td>Feb</td>\n",
       "      <td>23</td>\n",
       "      <td>4.1</td>\n",
       "    </tr>\n",
       "    <tr>\n",
       "      <th>13</th>\n",
       "      <td>Summer</td>\n",
       "      <td>Feb</td>\n",
       "      <td>24</td>\n",
       "      <td>4.1</td>\n",
       "    </tr>\n",
       "    <tr>\n",
       "      <th>14</th>\n",
       "      <td>Summer</td>\n",
       "      <td>Feb</td>\n",
       "      <td>25</td>\n",
       "      <td>3.9</td>\n",
       "    </tr>\n",
       "    <tr>\n",
       "      <th>15</th>\n",
       "      <td>Summer</td>\n",
       "      <td>Feb</td>\n",
       "      <td>26</td>\n",
       "      <td>3.8</td>\n",
       "    </tr>\n",
       "    <tr>\n",
       "      <th>16</th>\n",
       "      <td>Summer</td>\n",
       "      <td>Feb</td>\n",
       "      <td>27</td>\n",
       "      <td>3.8</td>\n",
       "    </tr>\n",
       "    <tr>\n",
       "      <th>17</th>\n",
       "      <td>Summer</td>\n",
       "      <td>Feb</td>\n",
       "      <td>28</td>\n",
       "      <td>3.9</td>\n",
       "    </tr>\n",
       "    <tr>\n",
       "      <th>18</th>\n",
       "      <td>Summer</td>\n",
       "      <td>Mar</td>\n",
       "      <td>1</td>\n",
       "      <td>3.9</td>\n",
       "    </tr>\n",
       "    <tr>\n",
       "      <th>19</th>\n",
       "      <td>Summer</td>\n",
       "      <td>Mar</td>\n",
       "      <td>2</td>\n",
       "      <td>3.9</td>\n",
       "    </tr>\n",
       "    <tr>\n",
       "      <th>20</th>\n",
       "      <td>Summer</td>\n",
       "      <td>Mar</td>\n",
       "      <td>3</td>\n",
       "      <td>3.9</td>\n",
       "    </tr>\n",
       "    <tr>\n",
       "      <th>21</th>\n",
       "      <td>Summer</td>\n",
       "      <td>Mar</td>\n",
       "      <td>4</td>\n",
       "      <td>4.1</td>\n",
       "    </tr>\n",
       "    <tr>\n",
       "      <th>22</th>\n",
       "      <td>Summer</td>\n",
       "      <td>Mar</td>\n",
       "      <td>5</td>\n",
       "      <td>3.9</td>\n",
       "    </tr>\n",
       "    <tr>\n",
       "      <th>23</th>\n",
       "      <td>Summer</td>\n",
       "      <td>Mar</td>\n",
       "      <td>6</td>\n",
       "      <td>3.9</td>\n",
       "    </tr>\n",
       "    <tr>\n",
       "      <th>24</th>\n",
       "      <td>Summer</td>\n",
       "      <td>Mar</td>\n",
       "      <td>7</td>\n",
       "      <td>4.1</td>\n",
       "    </tr>\n",
       "    <tr>\n",
       "      <th>25</th>\n",
       "      <td>Summer</td>\n",
       "      <td>Mar</td>\n",
       "      <td>8</td>\n",
       "      <td>4.0</td>\n",
       "    </tr>\n",
       "    <tr>\n",
       "      <th>26</th>\n",
       "      <td>Summer</td>\n",
       "      <td>Mar</td>\n",
       "      <td>9</td>\n",
       "      <td>4.1</td>\n",
       "    </tr>\n",
       "    <tr>\n",
       "      <th>27</th>\n",
       "      <td>Summer</td>\n",
       "      <td>Mar</td>\n",
       "      <td>10</td>\n",
       "      <td>3.9</td>\n",
       "    </tr>\n",
       "    <tr>\n",
       "      <th>28</th>\n",
       "      <td>Summer</td>\n",
       "      <td>Mar</td>\n",
       "      <td>11</td>\n",
       "      <td>4.1</td>\n",
       "    </tr>\n",
       "    <tr>\n",
       "      <th>29</th>\n",
       "      <td>Summer</td>\n",
       "      <td>Mar</td>\n",
       "      <td>12</td>\n",
       "      <td>3.8</td>\n",
       "    </tr>\n",
       "    <tr>\n",
       "      <th>30</th>\n",
       "      <td>Summer</td>\n",
       "      <td>Mar</td>\n",
       "      <td>13</td>\n",
       "      <td>4.2</td>\n",
       "    </tr>\n",
       "    <tr>\n",
       "      <th>31</th>\n",
       "      <td>Summer</td>\n",
       "      <td>Mar</td>\n",
       "      <td>14</td>\n",
       "      <td>4.2</td>\n",
       "    </tr>\n",
       "    <tr>\n",
       "      <th>32</th>\n",
       "      <td>Summer</td>\n",
       "      <td>Mar</td>\n",
       "      <td>15</td>\n",
       "      <td>3.8</td>\n",
       "    </tr>\n",
       "    <tr>\n",
       "      <th>33</th>\n",
       "      <td>Summer</td>\n",
       "      <td>Mar</td>\n",
       "      <td>16</td>\n",
       "      <td>3.9</td>\n",
       "    </tr>\n",
       "    <tr>\n",
       "      <th>34</th>\n",
       "      <td>Summer</td>\n",
       "      <td>Mar</td>\n",
       "      <td>17</td>\n",
       "      <td>3.9</td>\n",
       "    </tr>\n",
       "  </tbody>\n",
       "</table>\n",
       "</div>"
      ],
      "text/plain": [
       "    Season Month  Date   Temperature \n",
       "0   Summer   Feb    11            4.0\n",
       "1   Summer   Feb    12            3.9\n",
       "2   Summer   Feb    13            3.9\n",
       "3   Summer   Feb    14            4.0\n",
       "4   Summer   Feb    15            3.8\n",
       "5   Summer   Feb    16            4.0\n",
       "6   Summer   Feb    17            4.1\n",
       "7   Summer   Feb    18            4.0\n",
       "8   Summer   Feb    19            3.8\n",
       "9   Summer   Feb    20            3.9\n",
       "10  Summer   Feb    21            3.9\n",
       "11  Summer   Feb    22            4.6\n",
       "12  Summer   Feb    23            4.1\n",
       "13  Summer   Feb    24            4.1\n",
       "14  Summer   Feb    25            3.9\n",
       "15  Summer   Feb    26            3.8\n",
       "16  Summer   Feb    27            3.8\n",
       "17  Summer   Feb    28            3.9\n",
       "18  Summer   Mar     1            3.9\n",
       "19  Summer   Mar     2            3.9\n",
       "20  Summer   Mar     3            3.9\n",
       "21  Summer   Mar     4            4.1\n",
       "22  Summer   Mar     5            3.9\n",
       "23  Summer   Mar     6            3.9\n",
       "24  Summer   Mar     7            4.1\n",
       "25  Summer   Mar     8            4.0\n",
       "26  Summer   Mar     9            4.1\n",
       "27  Summer   Mar    10            3.9\n",
       "28  Summer   Mar    11            4.1\n",
       "29  Summer   Mar    12            3.8\n",
       "30  Summer   Mar    13            4.2\n",
       "31  Summer   Mar    14            4.2\n",
       "32  Summer   Mar    15            3.8\n",
       "33  Summer   Mar    16            3.9\n",
       "34  Summer   Mar    17            3.9"
      ]
     },
     "execution_count": 169,
     "metadata": {},
     "output_type": "execute_result"
    }
   ],
   "source": [
    "df= pd.read_csv('Cold_Storage_Mar2018.csv')\n",
    "df"
   ]
  },
  {
   "cell_type": "code",
   "execution_count": 170,
   "id": "e5946d3f",
   "metadata": {
    "scrolled": true
   },
   "outputs": [
    {
     "data": {
      "text/plain": [
       "Index(['Season', 'Month', 'Date', ' Temperature '], dtype='object')"
      ]
     },
     "execution_count": 170,
     "metadata": {},
     "output_type": "execute_result"
    }
   ],
   "source": [
    "df.columns"
   ]
  },
  {
   "cell_type": "code",
   "execution_count": 171,
   "id": "fc4b2911",
   "metadata": {},
   "outputs": [],
   "source": [
    "df.rename(columns={' Temperature ':'Temperature'},inplace=True)"
   ]
  },
  {
   "cell_type": "code",
   "execution_count": 172,
   "id": "05fd71cc",
   "metadata": {},
   "outputs": [
    {
     "data": {
      "text/plain": [
       "<AxesSubplot:xlabel='Temperature', ylabel='Count'>"
      ]
     },
     "execution_count": 172,
     "metadata": {},
     "output_type": "execute_result"
    },
    {
     "data": {
      "image/png": "[encoded data removed]",
      "text/plain": [
       "<Figure size 640x480 with 1 Axes>"
      ]
     },
     "metadata": {},
     "output_type": "display_data"
    }
   ],
   "source": [
    "sns.histplot(df['Temperature'])"
   ]
  },
  {
   "cell_type": "code",
   "execution_count": 173,
   "id": "1d54bde2",
   "metadata": {},
   "outputs": [
    {
     "data": {
      "text/plain": [
       "<AxesSubplot:xlabel='Temperature'>"
      ]
     },
     "execution_count": 173,
     "metadata": {},
     "output_type": "execute_result"
    },
    {
     "data": {
      "image/png": "[encoded data removed]",
      "text/plain": [
       "<Figure size 640x480 with 1 Axes>"
      ]
     },
     "metadata": {},
     "output_type": "display_data"
    }
   ],
   "source": [
    "sns.boxplot(data=df, x= 'Temperature')"
   ]
  },
  {
   "cell_type": "code",
   "execution_count": 174,
   "id": "5c63b21a",
   "metadata": {},
   "outputs": [],
   "source": [
    "# 1. Which Hypothesis test shall be performed to check if corrective action is needed at the cold storage\n",
    "# plant? Justify your answer. (6 marks)"
   ]
  },
  {
   "cell_type": "code",
   "execution_count": 175,
   "id": "e5034160",
   "metadata": {},
   "outputs": [
    {
     "data": {
      "text/plain": [
       "0.10783608914450034"
      ]
     },
     "execution_count": 175,
     "metadata": {},
     "output_type": "execute_result"
    }
   ],
   "source": [
    "df[df['Temperature'] > 3.9].count()[0] /df['Temperature'].sum()"
   ]
  },
  {
   "cell_type": "code",
   "execution_count": 176,
   "id": "08cd9232",
   "metadata": {},
   "outputs": [
    {
     "data": {
      "text/plain": [
       "15"
      ]
     },
     "execution_count": 176,
     "metadata": {},
     "output_type": "execute_result"
    }
   ],
   "source": [
    "df[df['Temperature'] > 3.9].count()[0]"
   ]
  },
  {
   "cell_type": "code",
   "execution_count": 177,
   "id": "98acf40b",
   "metadata": {},
   "outputs": [
    {
     "data": {
      "text/html": [
       "<div>\n",
       "<style scoped>\n",
       "    .dataframe tbody tr th:only-of-type {\n",
       "        vertical-align: middle;\n",
       "    }\n",
       "\n",
       "    .dataframe tbody tr th {\n",
       "        vertical-align: top;\n",
       "    }\n",
       "\n",
       "    .dataframe thead th {\n",
       "        text-align: right;\n",
       "    }\n",
       "</style>\n",
       "<table border=\"1\" class=\"dataframe\">\n",
       "  <thead>\n",
       "    <tr style=\"text-align: right;\">\n",
       "      <th></th>\n",
       "      <th>Season</th>\n",
       "      <th>Month</th>\n",
       "      <th>Date</th>\n",
       "      <th>Temperature</th>\n",
       "    </tr>\n",
       "  </thead>\n",
       "  <tbody>\n",
       "    <tr>\n",
       "      <th>0</th>\n",
       "      <td>Summer</td>\n",
       "      <td>Feb</td>\n",
       "      <td>11</td>\n",
       "      <td>4.0</td>\n",
       "    </tr>\n",
       "    <tr>\n",
       "      <th>3</th>\n",
       "      <td>Summer</td>\n",
       "      <td>Feb</td>\n",
       "      <td>14</td>\n",
       "      <td>4.0</td>\n",
       "    </tr>\n",
       "    <tr>\n",
       "      <th>5</th>\n",
       "      <td>Summer</td>\n",
       "      <td>Feb</td>\n",
       "      <td>16</td>\n",
       "      <td>4.0</td>\n",
       "    </tr>\n",
       "    <tr>\n",
       "      <th>6</th>\n",
       "      <td>Summer</td>\n",
       "      <td>Feb</td>\n",
       "      <td>17</td>\n",
       "      <td>4.1</td>\n",
       "    </tr>\n",
       "    <tr>\n",
       "      <th>7</th>\n",
       "      <td>Summer</td>\n",
       "      <td>Feb</td>\n",
       "      <td>18</td>\n",
       "      <td>4.0</td>\n",
       "    </tr>\n",
       "    <tr>\n",
       "      <th>11</th>\n",
       "      <td>Summer</td>\n",
       "      <td>Feb</td>\n",
       "      <td>22</td>\n",
       "      <td>4.6</td>\n",
       "    </tr>\n",
       "    <tr>\n",
       "      <th>12</th>\n",
       "      <td>Summer</td>\n",
       "      <td>Feb</td>\n",
       "      <td>23</td>\n",
       "      <td>4.1</td>\n",
       "    </tr>\n",
       "    <tr>\n",
       "      <th>13</th>\n",
       "      <td>Summer</td>\n",
       "      <td>Feb</td>\n",
       "      <td>24</td>\n",
       "      <td>4.1</td>\n",
       "    </tr>\n",
       "    <tr>\n",
       "      <th>21</th>\n",
       "      <td>Summer</td>\n",
       "      <td>Mar</td>\n",
       "      <td>4</td>\n",
       "      <td>4.1</td>\n",
       "    </tr>\n",
       "    <tr>\n",
       "      <th>24</th>\n",
       "      <td>Summer</td>\n",
       "      <td>Mar</td>\n",
       "      <td>7</td>\n",
       "      <td>4.1</td>\n",
       "    </tr>\n",
       "    <tr>\n",
       "      <th>25</th>\n",
       "      <td>Summer</td>\n",
       "      <td>Mar</td>\n",
       "      <td>8</td>\n",
       "      <td>4.0</td>\n",
       "    </tr>\n",
       "    <tr>\n",
       "      <th>26</th>\n",
       "      <td>Summer</td>\n",
       "      <td>Mar</td>\n",
       "      <td>9</td>\n",
       "      <td>4.1</td>\n",
       "    </tr>\n",
       "    <tr>\n",
       "      <th>28</th>\n",
       "      <td>Summer</td>\n",
       "      <td>Mar</td>\n",
       "      <td>11</td>\n",
       "      <td>4.1</td>\n",
       "    </tr>\n",
       "    <tr>\n",
       "      <th>30</th>\n",
       "      <td>Summer</td>\n",
       "      <td>Mar</td>\n",
       "      <td>13</td>\n",
       "      <td>4.2</td>\n",
       "    </tr>\n",
       "    <tr>\n",
       "      <th>31</th>\n",
       "      <td>Summer</td>\n",
       "      <td>Mar</td>\n",
       "      <td>14</td>\n",
       "      <td>4.2</td>\n",
       "    </tr>\n",
       "  </tbody>\n",
       "</table>\n",
       "</div>"
      ],
      "text/plain": [
       "    Season Month  Date  Temperature\n",
       "0   Summer   Feb    11          4.0\n",
       "3   Summer   Feb    14          4.0\n",
       "5   Summer   Feb    16          4.0\n",
       "6   Summer   Feb    17          4.1\n",
       "7   Summer   Feb    18          4.0\n",
       "11  Summer   Feb    22          4.6\n",
       "12  Summer   Feb    23          4.1\n",
       "13  Summer   Feb    24          4.1\n",
       "21  Summer   Mar     4          4.1\n",
       "24  Summer   Mar     7          4.1\n",
       "25  Summer   Mar     8          4.0\n",
       "26  Summer   Mar     9          4.1\n",
       "28  Summer   Mar    11          4.1\n",
       "30  Summer   Mar    13          4.2\n",
       "31  Summer   Mar    14          4.2"
      ]
     },
     "execution_count": 177,
     "metadata": {},
     "output_type": "execute_result"
    }
   ],
   "source": [
    "df[df['Temperature']> 3.9]"
   ]
  },
  {
   "cell_type": "code",
   "execution_count": 153,
   "id": "0a172938",
   "metadata": {},
   "outputs": [],
   "source": [
    "# T test can be used when there are near 30 sample size\n",
    "# We can here use One tail T test."
   ]
  },
  {
   "cell_type": "code",
   "execution_count": null,
   "id": "54099327",
   "metadata": {},
   "outputs": [],
   "source": []
  },
  {
   "cell_type": "code",
   "execution_count": 156,
   "id": "04e378ca",
   "metadata": {},
   "outputs": [],
   "source": [
    "# 2. State the Hypothesis and do the necessary calculations to accept or reject the corresponding null\n",
    "# hypothesis. (8 marks)"
   ]
  },
  {
   "cell_type": "code",
   "execution_count": 157,
   "id": "b5d58295",
   "metadata": {},
   "outputs": [],
   "source": [
    "# H0: Temperature is maintained at or below 3.9 deg C\n",
    "# Ha: Temperature is higher than 3.9 deg C"
   ]
  },
  {
   "cell_type": "code",
   "execution_count": 180,
   "id": "c8f38ba3",
   "metadata": {},
   "outputs": [
    {
     "data": {
      "text/plain": [
       "(2.7484935632942546, 0.004815626145896391)"
      ]
     },
     "execution_count": 180,
     "metadata": {},
     "output_type": "execute_result"
    }
   ],
   "source": [
    "Zstatic, pvalue = sts.ttest_1samp(df['Temperature'], popmean = 3.9,alternative ='greater')\n",
    "Zstatic, pvalue    "
   ]
  },
  {
   "cell_type": "code",
   "execution_count": 83,
   "id": "92076d6e",
   "metadata": {},
   "outputs": [
    {
     "data": {
      "text/plain": [
       "2.752358609800241"
      ]
     },
     "execution_count": 83,
     "metadata": {},
     "output_type": "execute_result"
    }
   ],
   "source": [
    "# pvalue is LESS than alpha 0.01 , so we REJECT H0 hypothesis. So, temperature is not maintained at or below 3.9 deg C.\n",
    "# And Cold Storage Plant will need corrective action."
   ]
  },
  {
   "cell_type": "code",
   "execution_count": null,
   "id": "d53572ae",
   "metadata": {},
   "outputs": [],
   "source": [
    "3. Give your inference. (6 marks)"
   ]
  },
  {
   "cell_type": "code",
   "execution_count": 161,
   "id": "e663cc8f",
   "metadata": {},
   "outputs": [
    {
     "data": {
      "text/plain": [
       "<matplotlib.lines.Line2D at 0x19b237b9820>"
      ]
     },
     "execution_count": 161,
     "metadata": {},
     "output_type": "execute_result"
    },
    {
     "data": {
      "image/png": "[encoded data removed]",
      "text/plain": [
       "<Figure size 640x480 with 1 Axes>"
      ]
     },
     "metadata": {},
     "output_type": "display_data"
    }
   ],
   "source": [
    "sns.lineplot(data= df, x = df.index, y = df.Temperature)\n",
    "plt.axhline(df.Temperature.mean())"
   ]
  },
  {
   "cell_type": "code",
   "execution_count": 85,
   "id": "4edc26e7",
   "metadata": {},
   "outputs": [
    {
     "data": {
      "text/plain": [
       "3.974285714285715"
      ]
     },
     "execution_count": 85,
     "metadata": {},
     "output_type": "execute_result"
    }
   ],
   "source": [
    "df['Temperature'].mean()"
   ]
  },
  {
   "cell_type": "code",
   "execution_count": 86,
   "id": "ad7211a1",
   "metadata": {},
   "outputs": [
    {
     "data": {
      "text/plain": [
       "count    35.000000\n",
       "mean      3.974286\n",
       "std       0.159674\n",
       "min       3.800000\n",
       "25%       3.900000\n",
       "50%       3.900000\n",
       "75%       4.100000\n",
       "max       4.600000\n",
       "Name: Temperature, dtype: float64"
      ]
     },
     "execution_count": 86,
     "metadata": {},
     "output_type": "execute_result"
    }
   ],
   "source": [
    "df['Temperature'].describe()"
   ]
  },
  {
   "cell_type": "code",
   "execution_count": 88,
   "id": "94be89f7",
   "metadata": {},
   "outputs": [
    {
     "data": {
      "text/plain": [
       "-0.4652335179222677"
      ]
     },
     "execution_count": 88,
     "metadata": {},
     "output_type": "execute_result"
    }
   ],
   "source": [
    "zvalue= (3.9- df['Temperature'].mean())/df['Temperature'].std()\n",
    "zvalue"
   ]
  },
  {
   "cell_type": "code",
   "execution_count": 90,
   "id": "8b54587f",
   "metadata": {},
   "outputs": [
    {
     "data": {
      "text/plain": [
       "0.6791178808972307"
      ]
     },
     "execution_count": 90,
     "metadata": {},
     "output_type": "execute_result"
    }
   ],
   "source": [
    "prob= 1-sts.norm.cdf(zvalue)\n",
    "prob"
   ]
  },
  {
   "cell_type": "code",
   "execution_count": 178,
   "id": "164d66b1",
   "metadata": {},
   "outputs": [],
   "source": [
    "#removing outlier row 11\n",
    "df.drop(index=11,inplace=True)"
   ]
  },
  {
   "cell_type": "code",
   "execution_count": 179,
   "id": "71821ae8",
   "metadata": {},
   "outputs": [
    {
     "data": {
      "text/plain": [
       "0.6813091466473861"
      ]
     },
     "execution_count": 179,
     "metadata": {},
     "output_type": "execute_result"
    }
   ],
   "source": [
    "zvalue= (3.9- df['Temperature'].mean())/df['Temperature'].std()\n",
    "zvalue\n",
    "prob= 1-sts.norm.cdf(zvalue)\n",
    "prob"
   ]
  },
  {
   "cell_type": "code",
   "execution_count": null,
   "id": "bfafeac4",
   "metadata": {},
   "outputs": [],
   "source": []
  }
 ],
 "metadata": {
  "kernelspec": {
   "display_name": "Python 3 (ipykernel)",
   "language": "python",
   "name": "python3"
  },
  "language_info": {
   "codemirror_mode": {
    "name": "ipython",
    "version": 3
   },
   "file_extension": ".py",
   "mimetype": "text/x-python",
   "name": "python",
   "nbconvert_exporter": "python",
   "pygments_lexer": "ipython3",
   "version": "3.9.13"
  }
 },
 "nbformat": 4,
 "nbformat_minor": 5
}
